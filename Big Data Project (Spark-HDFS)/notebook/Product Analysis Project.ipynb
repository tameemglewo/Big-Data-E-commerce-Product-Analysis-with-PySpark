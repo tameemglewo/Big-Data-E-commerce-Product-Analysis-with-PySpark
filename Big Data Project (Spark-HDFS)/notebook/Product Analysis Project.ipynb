{
 "cells": [
  {
   "cell_type": "markdown",
   "id": "FRyzL0Kt5P5D",
   "metadata": {
    "id": "FRyzL0Kt5P5D"
   },
   "source": [
    "# Project - Product analysis in Spark.\n",
    "# Deadline - 8th of February, 2025"
   ]
  },
  {
   "cell_type": "markdown",
   "id": "qB5yJfVR5zz8",
   "metadata": {
    "id": "qB5yJfVR5zz8"
   },
   "source": [
    "## Name -"
   ]
  },
  {
   "cell_type": "markdown",
   "id": "h_1f7wHw5P5E",
   "metadata": {
    "id": "h_1f7wHw5P5E"
   },
   "source": [
    "## Objective\n",
    "The objective of this project is to analyse various datasets in spark about commercial products and rating of e-commerce website NewChic.com.\n",
    "## Overview of the datasets\n",
    "For this project there are three csv files one for each product ( Shoe products, jewelry products and accessories).The datasets are available in the zip folder with th project.I advise you have the notebook and all the csv files in the same directory, so that it is easier when you are loading the csv files to pass in the csv files directly since they will be in the same directory as the notebook.<br>\n",
    "There are 22 features in each dataset. The main features are\n",
    "- Category ( men/accessory/jewelry/etc)\n",
    "- Subcategory type of catgeory\n",
    "- name of the product\n",
    "- current price ==> price listed on the website  \n",
    "- raw price ==> total price of the product before any discounts(i.e original price of the product)\n",
    "- discount\n",
    "- Currency ( currency of which the price listed in)\n",
    "- likes count ==> popularity of the product\n",
    "- isnew ==> tells whether the product is used or not (Binary value true or false)\n"
   ]
  },
  {
   "cell_type": "markdown",
   "id": "QXfP0NAK5P5F",
   "metadata": {
    "id": "QXfP0NAK5P5F"
   },
   "source": [
    "# Tasks -"
   ]
  },
  {
   "cell_type": "code",
   "execution_count": 108,
   "id": "Wm2LTb-F5P5F",
   "metadata": {
    "id": "Wm2LTb-F5P5F"
   },
   "outputs": [],
   "source": [
    "from pyspark.sql import SparkSession\n",
    "from pyspark.sql.functions import *\n",
    "from pyspark.sql.types import *"
   ]
  },
  {
   "cell_type": "code",
   "execution_count": 109,
   "id": "IYkYRunV5P5F",
   "metadata": {
    "id": "IYkYRunV5P5F"
   },
   "outputs": [],
   "source": [
    "# Initialize SparkSession\n",
    "spark = SparkSession.builder.appName(\"ProductAnalysis\").getOrCreate()"
   ]
  },
  {
   "cell_type": "code",
   "execution_count": null,
   "id": "vJJ1xcQr5P5G",
   "metadata": {
    "id": "vJJ1xcQr5P5G"
   },
   "outputs": [
    {
     "name": "stderr",
     "output_type": "stream",
     "text": [
      "                                                                                "
     ]
    }
   ],
   "source": [
    "# CSV Paths\n",
    "accessory_path = \"hdfs://namenode-master:8020/accessories.csv\"\n",
    "jewelry_path = \"hdfs://namenode-master:8020/jewelry.csv\"\n",
    "shoe_path = \"hdfs://namenode-master:8020/shoes.csv\"\n",
    "# Load Datasets\n",
    "shoe_df = spark.read.options(header=True, inferSchema=True).csv(accessory_path)\n",
    "jewelry_df = spark.read.options(header=True, inferSchema=True).csv(jewelry_path)\n",
    "accessories_df = spark.read.options(header=True, inferSchema=True).csv(shoe_path)"
   ]
  },
  {
   "cell_type": "code",
   "execution_count": null,
   "id": "7wG2AScc5P5H",
   "metadata": {
    "id": "7wG2AScc5P5H"
   },
   "outputs": [
    {
     "name": "stdout",
     "output_type": "stream",
     "text": [
      "root\n",
      " |-- category: string (nullable = true)\n",
      " |-- subcategory: string (nullable = true)\n",
      " |-- name: string (nullable = true)\n",
      " |-- current_price: double (nullable = true)\n",
      " |-- raw_price: double (nullable = true)\n",
      " |-- currency: string (nullable = true)\n",
      " |-- discount: integer (nullable = true)\n",
      " |-- likes_count: integer (nullable = true)\n",
      " |-- is_new: boolean (nullable = true)\n",
      " |-- brand: string (nullable = true)\n",
      " |-- brand_url: string (nullable = true)\n",
      " |-- codCountry: string (nullable = true)\n",
      " |-- variation_0_color: string (nullable = true)\n",
      " |-- variation_1_color: string (nullable = true)\n",
      " |-- variation_0_thumbnail: string (nullable = true)\n",
      " |-- variation_0_image: string (nullable = true)\n",
      " |-- variation_1_thumbnail: string (nullable = true)\n",
      " |-- variation_1_image: string (nullable = true)\n",
      " |-- image_url: string (nullable = true)\n",
      " |-- url: string (nullable = true)\n",
      " |-- id: integer (nullable = true)\n",
      " |-- model: string (nullable = true)\n",
      "\n",
      "root\n",
      " |-- category: string (nullable = true)\n",
      " |-- subcategory: string (nullable = true)\n",
      " |-- name: string (nullable = true)\n",
      " |-- current_price: double (nullable = true)\n",
      " |-- raw_price: double (nullable = true)\n",
      " |-- currency: string (nullable = true)\n",
      " |-- discount: integer (nullable = true)\n",
      " |-- likes_count: integer (nullable = true)\n",
      " |-- is_new: boolean (nullable = true)\n",
      " |-- brand: string (nullable = true)\n",
      " |-- brand_url: string (nullable = true)\n",
      " |-- codCountry: string (nullable = true)\n",
      " |-- variation_0_color: string (nullable = true)\n",
      " |-- variation_1_color: string (nullable = true)\n",
      " |-- variation_0_thumbnail: string (nullable = true)\n",
      " |-- variation_0_image: string (nullable = true)\n",
      " |-- variation_1_thumbnail: string (nullable = true)\n",
      " |-- variation_1_image: string (nullable = true)\n",
      " |-- image_url: string (nullable = true)\n",
      " |-- url: string (nullable = true)\n",
      " |-- id: integer (nullable = true)\n",
      " |-- model: string (nullable = true)\n",
      "\n",
      "root\n",
      " |-- category: string (nullable = true)\n",
      " |-- subcategory: string (nullable = true)\n",
      " |-- name: string (nullable = true)\n",
      " |-- current_price: double (nullable = true)\n",
      " |-- raw_price: double (nullable = true)\n",
      " |-- currency: string (nullable = true)\n",
      " |-- discount: integer (nullable = true)\n",
      " |-- likes_count: integer (nullable = true)\n",
      " |-- is_new: boolean (nullable = true)\n",
      " |-- brand: string (nullable = true)\n",
      " |-- brand_url: string (nullable = true)\n",
      " |-- codCountry: string (nullable = true)\n",
      " |-- variation_0_color: string (nullable = true)\n",
      " |-- variation_1_color: string (nullable = true)\n",
      " |-- variation_0_thumbnail: string (nullable = true)\n",
      " |-- variation_0_image: string (nullable = true)\n",
      " |-- variation_1_thumbnail: string (nullable = true)\n",
      " |-- variation_1_image: string (nullable = true)\n",
      " |-- image_url: string (nullable = true)\n",
      " |-- url: string (nullable = true)\n",
      " |-- id: integer (nullable = true)\n",
      " |-- model: string (nullable = true)\n",
      "\n"
     ]
    }
   ],
   "source": [
    "# Print Schema\n",
    "accessories_df.printSchema()\n",
    "jewelry_df.printSchema()\n",
    "shoe_df.printSchema()"
   ]
  },
  {
   "cell_type": "code",
   "execution_count": null,
   "id": "c2dc972b-1c7c-461a-aed1-29b394f46c7b",
   "metadata": {},
   "outputs": [
    {
     "name": "stdout",
     "output_type": "stream",
     "text": [
      "root\n",
      " |-- category: string (nullable = true)\n",
      " |-- subcategory: string (nullable = true)\n",
      " |-- name: string (nullable = true)\n",
      " |-- current_price: double (nullable = true)\n",
      " |-- raw_price: double (nullable = true)\n",
      " |-- currency: string (nullable = true)\n",
      " |-- discount: integer (nullable = true)\n",
      " |-- likes_count: integer (nullable = true)\n",
      " |-- is_new: boolean (nullable = true)\n",
      " |-- brand: string (nullable = true)\n",
      " |-- brand_url: string (nullable = true)\n",
      " |-- codCountry: string (nullable = true)\n",
      " |-- variation_0_color: string (nullable = true)\n",
      " |-- variation_1_color: string (nullable = true)\n",
      " |-- variation_0_thumbnail: string (nullable = true)\n",
      " |-- variation_0_image: string (nullable = true)\n",
      " |-- variation_1_thumbnail: string (nullable = true)\n",
      " |-- variation_1_image: string (nullable = true)\n",
      " |-- image_url: string (nullable = true)\n",
      " |-- url: string (nullable = true)\n",
      " |-- id: integer (nullable = true)\n",
      " |-- model: string (nullable = true)\n",
      "\n"
     ]
    }
   ],
   "source": [
    "all_products_df = shoe_df.union(jewelry_df).union(accessories_df)\n",
    "all_products_df.printSchema()"
   ]
  },
  {
   "cell_type": "markdown",
   "id": "9JIMX5es5P5H",
   "metadata": {
    "id": "9JIMX5es5P5H"
   },
   "source": [
    "## Transformation of the data -  building more features to help analyse each product"
   ]
  },
  {
   "cell_type": "markdown",
   "id": "vtnpW2na5P5H",
   "metadata": {
    "id": "vtnpW2na5P5H"
   },
   "source": [
    "### First create functions which would take the dataframe as its input and return a new dataframe contianing the following columns.\n",
    "1. Average price of each category\n",
    "2. Average price of each subcategory\n",
    "3. Average discount of each category\n",
    "4. Average discount of each subcategory\n",
    "5. Average likes of each category\n",
    "6. Average likes of each subcategory\n",
    "7. sum of the unused products in each category (tip - first convert the feature isnew to numeric to be able to get the sum of the unused products)\n",
    "8. sum of the unused products in subcategory\n"
   ]
  },
  {
   "cell_type": "code",
   "execution_count": null,
   "id": "xMtU47b65P5H",
   "metadata": {
    "id": "xMtU47b65P5H"
   },
   "outputs": [],
   "source": [
    "def add_category_averages(df):\n",
    "    \"\"\"Adds average price, discount, and likes for each category.\"\"\"\n",
    "\n",
    "    category_stats = df.groupBy(\"category\").agg(\n",
    "        avg(\"current_price\").alias(\"avg_price_category\"),\n",
    "        avg(\"discount\").alias(\"avg_discount_category\"),\n",
    "        avg(\"likes_count\").alias(\"avg_likes_category\")\n",
    "    )\n",
    "\n",
    "    df_with_category_avgs = df.join(category_stats, \"category\", \"left\")\n",
    "    return df_with_category_avgs"
   ]
  },
  {
   "cell_type": "code",
   "execution_count": null,
   "id": "UU724E_N5P5I",
   "metadata": {
    "id": "UU724E_N5P5I"
   },
   "outputs": [],
   "source": [
    "def add_subcategory_averages(df):\n",
    "    \"\"\"Adds average price, discount, and likes for each subcategory.\"\"\"\n",
    "\n",
    "    subcategory_stats = df.groupBy(\"subcategory\").agg(\n",
    "        avg(\"current_price\").alias(\"avg_price_subcategory\"),\n",
    "        avg(\"discount\").alias(\"avg_discount_subcategory\"),\n",
    "        avg(\"likes_count\").alias(\"avg_likes_subcategory\")\n",
    "    )\n",
    "\n",
    "    df_with_subcategory_avgs = df.join(subcategory_stats, \"subcategory\", \"left\")\n",
    "    return df_with_subcategory_avgs"
   ]
  },
  {
   "cell_type": "code",
   "execution_count": null,
   "id": "Jkd4XyWv5P5I",
   "metadata": {
    "id": "Jkd4XyWv5P5I"
   },
   "outputs": [],
   "source": [
    "def add_unused_product_sums(df):\n",
    "    \"\"\"Adds the sum of unused products for each category and subcategory.\"\"\"\n",
    "\n",
    "    # Convert 'isnew' to numerical (1 for True, 0 for False)\n",
    "    df = df.withColumn(\"isnew_numeric\", when(df[\"is_new\"] == True, 1).otherwise(0)) # 0 for used, 1 for unused.\n",
    "\n",
    "    category_unused = df.groupBy(\"category\").agg(sum(\"isnew_numeric\").alias(\"sum_unused_category\"))\n",
    "    subcategory_unused = df.groupBy(\"subcategory\").agg(sum(\"isnew_numeric\").alias(\"sum_unused_subcategory\"))\n",
    "\n",
    "    df_with_unused_sums = df.join(category_unused, \"category\", \"left\").join(subcategory_unused, \"subcategory\", \"left\")\n",
    "    return df_with_unused_sums"
   ]
  },
  {
   "cell_type": "markdown",
   "id": "kXf8gfuh5P5I",
   "metadata": {
    "id": "kXf8gfuh5P5I"
   },
   "source": [
    "## Call these functions that were created to create the new columns."
   ]
  },
  {
   "cell_type": "code",
   "execution_count": null,
   "id": "EMbuDZoG5P5I",
   "metadata": {
    "id": "EMbuDZoG5P5I"
   },
   "outputs": [],
   "source": [
    "# Apply the transformations\n",
    "all_products_df = add_category_averages(all_products_df)\n",
    "all_products_df = add_subcategory_averages(all_products_df)\n",
    "new_all_products_df = add_unused_product_sums(all_products_df)"
   ]
  },
  {
   "cell_type": "markdown",
   "id": "00D-A0w25P5I",
   "metadata": {
    "id": "00D-A0w25P5I"
   },
   "source": [
    "## Print the schema of the dataframe to check the new columns created"
   ]
  },
  {
   "cell_type": "code",
   "execution_count": null,
   "id": "6n6V7xgP5P5J",
   "metadata": {
    "id": "6n6V7xgP5P5J"
   },
   "outputs": [
    {
     "name": "stdout",
     "output_type": "stream",
     "text": [
      "root\n",
      " |-- subcategory: string (nullable = true)\n",
      " |-- category: string (nullable = true)\n",
      " |-- name: string (nullable = true)\n",
      " |-- current_price: double (nullable = true)\n",
      " |-- raw_price: double (nullable = true)\n",
      " |-- currency: string (nullable = true)\n",
      " |-- discount: integer (nullable = true)\n",
      " |-- likes_count: integer (nullable = true)\n",
      " |-- is_new: boolean (nullable = true)\n",
      " |-- brand: string (nullable = true)\n",
      " |-- brand_url: string (nullable = true)\n",
      " |-- codCountry: string (nullable = true)\n",
      " |-- variation_0_color: string (nullable = true)\n",
      " |-- variation_1_color: string (nullable = true)\n",
      " |-- variation_0_thumbnail: string (nullable = true)\n",
      " |-- variation_0_image: string (nullable = true)\n",
      " |-- variation_1_thumbnail: string (nullable = true)\n",
      " |-- variation_1_image: string (nullable = true)\n",
      " |-- image_url: string (nullable = true)\n",
      " |-- url: string (nullable = true)\n",
      " |-- id: integer (nullable = true)\n",
      " |-- model: string (nullable = true)\n",
      " |-- avg_price_category: double (nullable = true)\n",
      " |-- avg_discount_category: double (nullable = true)\n",
      " |-- avg_likes_category: double (nullable = true)\n",
      " |-- avg_price_subcategory: double (nullable = true)\n",
      " |-- avg_discount_subcategory: double (nullable = true)\n",
      " |-- avg_likes_subcategory: double (nullable = true)\n",
      " |-- isnew_numeric: integer (nullable = false)\n",
      " |-- sum_unused_category: long (nullable = true)\n",
      " |-- sum_unused_subcategory: long (nullable = true)\n",
      "\n"
     ]
    }
   ],
   "source": [
    "new_all_products_df.printSchema()"
   ]
  },
  {
   "cell_type": "markdown",
   "id": "UIKYI_8m5P5J",
   "metadata": {
    "id": "UIKYI_8m5P5J"
   },
   "source": [
    "## Analysis - Utilising the newly created features to answer some questions<br>For this taks use the dataframe API to answer the following questions"
   ]
  },
  {
   "cell_type": "markdown",
   "id": "1dUd4XhF5P5J",
   "metadata": {
    "id": "1dUd4XhF5P5J"
   },
   "source": [
    "### Which type of product is the least popular with the users"
   ]
  },
  {
   "cell_type": "code",
   "execution_count": null,
   "id": "Ghp8GEJs5P5J",
   "metadata": {
    "id": "Ghp8GEJs5P5J"
   },
   "outputs": [
    {
     "name": "stderr",
     "output_type": "stream",
     "text": [
      "                                                                                "
     ]
    },
    {
     "name": "stdout",
     "output_type": "stream",
     "text": [
      "The least popular product type is: accessories\n"
     ]
    },
    {
     "name": "stderr",
     "output_type": "stream",
     "text": [
      "[Stage 9:=======================================>                   (4 + 2) / 6]"
     ]
    },
    {
     "name": "stdout",
     "output_type": "stream",
     "text": [
      "+-----------+-----------+\n",
      "|   category|total_likes|\n",
      "+-----------+-----------+\n",
      "|accessories|     613522|\n",
      "|    jewelry|     806306|\n",
      "|      shoes|    3358818|\n",
      "+-----------+-----------+\n",
      "\n"
     ]
    },
    {
     "name": "stderr",
     "output_type": "stream",
     "text": [
      "                                                                                "
     ]
    }
   ],
   "source": [
    "least_popular_type_df = new_all_products_df.groupBy(\"category\").agg(sum(\"likes_count\").alias(\"total_likes\")).orderBy(\"total_likes\")\n",
    "least_popular_type = least_popular_type_df.first()\n",
    "print(f\"The least popular product type is: {least_popular_type['category']}\")\n",
    "least_popular_type_df.show()"
   ]
  },
  {
   "cell_type": "markdown",
   "id": "g8UiaF615P5K",
   "metadata": {
    "id": "g8UiaF615P5K"
   },
   "source": [
    "### Which type of product is the most popular with the users"
   ]
  },
  {
   "cell_type": "code",
   "execution_count": null,
   "id": "GZ4ADRYu5P5K",
   "metadata": {
    "id": "GZ4ADRYu5P5K"
   },
   "outputs": [
    {
     "name": "stderr",
     "output_type": "stream",
     "text": [
      "                                                                                "
     ]
    },
    {
     "name": "stdout",
     "output_type": "stream",
     "text": [
      "The most popular product type is: shoes\n"
     ]
    },
    {
     "name": "stderr",
     "output_type": "stream",
     "text": [
      "[Stage 15:======================================>                   (4 + 2) / 6]"
     ]
    },
    {
     "name": "stdout",
     "output_type": "stream",
     "text": [
      "+-----------+-----------+\n",
      "|   category|total_likes|\n",
      "+-----------+-----------+\n",
      "|      shoes|    3358818|\n",
      "|    jewelry|     806306|\n",
      "|accessories|     613522|\n",
      "+-----------+-----------+\n",
      "\n"
     ]
    },
    {
     "name": "stderr",
     "output_type": "stream",
     "text": [
      "                                                                                "
     ]
    }
   ],
   "source": [
    "most_popular_type_df = new_all_products_df.groupBy(\"category\").agg(sum(\"likes_count\").alias(\"total_likes\")).orderBy(desc(\"total_likes\"))\n",
    "most_popular_type = most_popular_type_df.first()\n",
    "print(f\"The most popular product type is: {most_popular_type['category']}\")\n",
    "most_popular_type_df.show()"
   ]
  },
  {
   "cell_type": "markdown",
   "id": "R8ZLFF2r5P5K",
   "metadata": {
    "id": "R8ZLFF2r5P5K"
   },
   "source": [
    "### Which subcategory product is the most popular with the users"
   ]
  },
  {
   "cell_type": "code",
   "execution_count": null,
   "id": "9sALL3-T5P5K",
   "metadata": {
    "id": "9sALL3-T5P5K"
   },
   "outputs": [
    {
     "name": "stderr",
     "output_type": "stream",
     "text": [
      "                                                                                "
     ]
    },
    {
     "name": "stdout",
     "output_type": "stream",
     "text": [
      "The most popular sub product type is: Derbies & Mocassins\n"
     ]
    },
    {
     "name": "stderr",
     "output_type": "stream",
     "text": [
      "[Stage 21:=============================>                            (3 + 3) / 6]"
     ]
    },
    {
     "name": "stdout",
     "output_type": "stream",
     "text": [
      "+-----------+--------------------+-----------+\n",
      "|   category|         subcategory|total_likes|\n",
      "+-----------+--------------------+-----------+\n",
      "|      shoes| Derbies & Mocassins|     794351|\n",
      "|      shoes|   Bottes & Bottines|     686245|\n",
      "|      shoes|    Sandales & Mules|     511183|\n",
      "|      shoes|           Mocassins|     335507|\n",
      "|      shoes|  Sneakers & Baskets|     283253|\n",
      "|    jewelry|  Boucles d'oreilles|     201918|\n",
      "|      shoes|           Escarpins|     193397|\n",
      "|    jewelry|            Colliers|     143060|\n",
      "|      shoes|Bottes & Chaussur...|     125682|\n",
      "|      shoes|             Baskets|     117481|\n",
      "|accessories|          Beanie Hat|      96462|\n",
      "|    jewelry|              Bagues|      88119|\n",
      "|    jewelry|           Bracelets|      82264|\n",
      "|      shoes| Chaussures de ville|      80466|\n",
      "|      shoes|  Claquettes & Tongs|      77440|\n",
      "|      shoes|            Sandales|      72548|\n",
      "|accessories|Chaussettes & Col...|      70669|\n",
      "|    jewelry|  Montres pour femme|      59951|\n",
      "|accessories|  Chapeaux & Bonnets|      56711|\n",
      "|accessories| Foulards & Écharpes|      47141|\n",
      "+-----------+--------------------+-----------+\n",
      "only showing top 20 rows\n",
      "\n"
     ]
    },
    {
     "name": "stderr",
     "output_type": "stream",
     "text": [
      "                                                                                "
     ]
    }
   ],
   "source": [
    "most_popular_sub_type_df = new_all_products_df.groupBy(\"category\", \"subcategory\").agg(sum(\"likes_count\").alias(\"total_likes\")).orderBy(desc(\"total_likes\"))\n",
    "most_popular_sub_type = most_popular_sub_type_df.first()\n",
    "print(f\"The most popular sub product type is: {most_popular_sub_type['subcategory']}\")\n",
    "most_popular_sub_type_df.show()"
   ]
  },
  {
   "cell_type": "markdown",
   "id": "VbBmonPc5P5K",
   "metadata": {
    "id": "VbBmonPc5P5K"
   },
   "source": [
    "###  Which subcategory product is the least popular with the users"
   ]
  },
  {
   "cell_type": "code",
   "execution_count": null,
   "id": "gOMnXMzV5P5K",
   "metadata": {
    "id": "gOMnXMzV5P5K"
   },
   "outputs": [
    {
     "name": "stdout",
     "output_type": "stream",
     "text": [
      "The least popular sub product type is: Berets\n",
      "+-----------+--------------------+-----------+\n",
      "|   category|         subcategory|total_likes|\n",
      "+-----------+--------------------+-----------+\n",
      "|accessories|              Berets|         12|\n",
      "|      shoes|    CHAUSSURES HOMME|         33|\n",
      "|    jewelry|    Montres en bague|         44|\n",
      "|accessories|        Military Hat|         45|\n",
      "|accessories|   Men's Accessories|         60|\n",
      "|    jewelry|          Bijouterie|         69|\n",
      "|      shoes|        Plate-formes|        101|\n",
      "|accessories|           Ipad Case|        166|\n",
      "|accessories|Sun Protection Sl...|        224|\n",
      "|accessories|           Ceintures|        266|\n",
      "|      shoes|              Bottes|        338|\n",
      "|      shoes|Chaussures de jeu...|        364|\n",
      "|    jewelry|          Pendentifs|        418|\n",
      "|accessories|              Voiles|        427|\n",
      "|    jewelry|Boucles d'oreille...|        454|\n",
      "|    jewelry| Mascarade & Cosplay|        539|\n",
      "|    jewelry|         Accessoires|        554|\n",
      "|    jewelry|Présentoirs de bi...|        648|\n",
      "|accessories|    Tech Accessories|        679|\n",
      "|accessories|              Fleurs|        878|\n",
      "+-----------+--------------------+-----------+\n",
      "only showing top 20 rows\n",
      "\n"
     ]
    }
   ],
   "source": [
    "least_popular_sub_type_df = new_all_products_df.groupBy(\"category\", \"subcategory\").agg(sum(\"likes_count\").alias(\"total_likes\")).orderBy(\"total_likes\")\n",
    "least_popular_sub_type = least_popular_sub_type_df.first()\n",
    "print(f\"The least popular sub product type is: {least_popular_sub_type['subcategory']}\")\n",
    "least_popular_sub_type_df.show()"
   ]
  },
  {
   "cell_type": "markdown",
   "id": "_WeL1X2v5P5K",
   "metadata": {
    "id": "_WeL1X2v5P5K"
   },
   "source": [
    "### In the accessory products, which subcategory was the most expensive"
   ]
  },
  {
   "cell_type": "code",
   "execution_count": null,
   "id": "96X1d03L5P5L",
   "metadata": {
    "id": "96X1d03L5P5L"
   },
   "outputs": [
    {
     "name": "stderr",
     "output_type": "stream",
     "text": [
      "                                                                                "
     ]
    },
    {
     "name": "stdout",
     "output_type": "stream",
     "text": [
      "The most expensive sub product type is: Lunettes\n",
      "+-----------+--------------------+-------------+\n",
      "|   category|         subcategory|current_price|\n",
      "+-----------+--------------------+-------------+\n",
      "|accessories|            Lunettes|        92.99|\n",
      "|accessories| Lunettes de lecture|        83.05|\n",
      "|accessories|         Chaussettes|        66.15|\n",
      "|accessories|Ceintures & Brete...|        63.23|\n",
      "|accessories|  Chapeaux & Bonnets|        62.51|\n",
      "|accessories|           Flat Caps|        61.46|\n",
      "|accessories|       Baseball Caps|         58.3|\n",
      "|accessories| Foulards & Écharpes|        53.77|\n",
      "|accessories|          Phone Case|        48.01|\n",
      "|accessories|          Straw Hats|        45.27|\n",
      "|accessories|          Beanie Hat|         43.5|\n",
      "|accessories|          Bucket Hat|        42.42|\n",
      "|accessories|Fournitures de dé...|        40.63|\n",
      "|accessories|Boutons de manche...|        38.77|\n",
      "|accessories|               Gants|        38.65|\n",
      "|accessories|Cache-oreilles & ...|        37.51|\n",
      "|accessories|        Military Hat|         32.7|\n",
      "|accessories|Chaussettes & Col...|        30.04|\n",
      "|accessories|    Tech Accessories|        29.49|\n",
      "|accessories|             Coiffes|        28.37|\n",
      "+-----------+--------------------+-------------+\n",
      "only showing top 20 rows\n",
      "\n"
     ]
    }
   ],
   "source": [
    "most_expensive_sub_type_df = new_all_products_df.filter(col(\"category\") == \"accessories\").groupBy(\"category\", \"subcategory\").agg(max(\"current_price\").alias(\"current_price\")).orderBy(desc(\"current_price\"))\n",
    "most_expensive_sub_type = most_expensive_sub_type_df.first()\n",
    "print(f\"The most expensive sub product type is: {most_expensive_sub_type['subcategory']}\")\n",
    "most_expensive_sub_type_df.show()"
   ]
  },
  {
   "cell_type": "markdown",
   "id": "Hc6T577Z5P5L",
   "metadata": {
    "id": "Hc6T577Z5P5L"
   },
   "source": [
    "### Which type of product had the highest discount offerings"
   ]
  },
  {
   "cell_type": "code",
   "execution_count": null,
   "id": "rakrQzx85P5L",
   "metadata": {
    "id": "rakrQzx85P5L"
   },
   "outputs": [
    {
     "name": "stdout",
     "output_type": "stream",
     "text": [
      "The product type with the highest discount is: accessories\n",
      "+-----------+--------+\n",
      "|   category|discount|\n",
      "+-----------+--------+\n",
      "|accessories|     100|\n",
      "|    jewelry|      98|\n",
      "|      shoes|      90|\n",
      "+-----------+--------+\n",
      "\n"
     ]
    }
   ],
   "source": [
    "highest_discount_type_df = new_all_products_df.groupBy(\"category\").agg(max(\"discount\").alias(\"discount\")).orderBy(desc(\"discount\"))\n",
    "highest_discount_type = highest_discount_type_df.first()\n",
    "print(f\"The product type with the highest discount is: {highest_discount_type['category']}\")\n",
    "highest_discount_type_df.show()"
   ]
  },
  {
   "cell_type": "markdown",
   "id": "l_2zNDVt5P5M",
   "metadata": {
    "id": "l_2zNDVt5P5M"
   },
   "source": [
    "### Which type of product had the lowest discount offerings"
   ]
  },
  {
   "cell_type": "code",
   "execution_count": null,
   "id": "tWJad05R5P5M",
   "metadata": {
    "id": "tWJad05R5P5M"
   },
   "outputs": [
    {
     "name": "stdout",
     "output_type": "stream",
     "text": [
      "The product type with the lowest discount is: accessories\n",
      "+-----------+--------+\n",
      "|   category|discount|\n",
      "+-----------+--------+\n",
      "|accessories|       0|\n",
      "|    jewelry|       0|\n",
      "|      shoes|       0|\n",
      "+-----------+--------+\n",
      "\n"
     ]
    }
   ],
   "source": [
    "lowest_discount_type_df = new_all_products_df.groupBy(\"category\").agg(min(\"discount\").alias(\"discount\")).orderBy(\"discount\")\n",
    "lowest_discount_type = lowest_discount_type_df.first()\n",
    "print(f\"The product type with the lowest discount is: {lowest_discount_type['category']}\")\n",
    "lowest_discount_type_df.show()"
   ]
  },
  {
   "cell_type": "markdown",
   "id": "GssdtnXN5P5M",
   "metadata": {
    "id": "GssdtnXN5P5M"
   },
   "source": [
    "### In the shoe's products, which subcategory was the most common."
   ]
  },
  {
   "cell_type": "code",
   "execution_count": null,
   "id": "Ay_AsRcS5P5M",
   "metadata": {
    "id": "Ay_AsRcS5P5M"
   },
   "outputs": [
    {
     "name": "stdout",
     "output_type": "stream",
     "text": [
      "The most common sub product shoe is: Mocassins\n",
      "+--------+--------------------+-------------+\n",
      "|category|         subcategory|product_count|\n",
      "+--------+--------------------+-------------+\n",
      "|   shoes|           Mocassins|         1703|\n",
      "|   shoes| Derbies & Mocassins|         1596|\n",
      "|   shoes|   Bottes & Bottines|         1515|\n",
      "|   shoes|    Sandales & Mules|         1340|\n",
      "|   shoes|             Baskets|         1318|\n",
      "|   shoes|  Sneakers & Baskets|          966|\n",
      "|   shoes|Bottes & Chaussur...|          715|\n",
      "|   shoes|            Sandales|          695|\n",
      "|   shoes| Chaussures de ville|          494|\n",
      "|   shoes|  Claquettes & Tongs|          378|\n",
      "|   shoes|           Escarpins|          372|\n",
      "|   shoes|           Chaussons|          246|\n",
      "|   shoes|             Slipper|          167|\n",
      "|   shoes|             Sandals|           79|\n",
      "|   shoes|          Plateforme|           78|\n",
      "|   shoes|      Flat & Loafers|           54|\n",
      "|   shoes|               Pumps|           39|\n",
      "|   shoes| Chaussures de sport|           37|\n",
      "|   shoes|ACCESSOIRES CHAUS...|           23|\n",
      "|   shoes|        Plate-formes|            3|\n",
      "+--------+--------------------+-------------+\n",
      "only showing top 20 rows\n",
      "\n"
     ]
    }
   ],
   "source": [
    "most_common_sub_shoe_df = new_all_products_df.filter(col(\"category\") == \"shoes\").groupBy(\"category\", \"subcategory\").agg(count(\"*\").alias(\"product_count\")).orderBy(desc(\"product_count\"))\n",
    "most_common_sub_shoe = most_common_sub_shoe_df.first()\n",
    "print(f\"The most common sub product shoe is: {most_common_sub_shoe['subcategory']}\")\n",
    "most_common_sub_shoe_df.show()"
   ]
  },
  {
   "cell_type": "markdown",
   "id": "JAXgAerG5P5N",
   "metadata": {
    "id": "JAXgAerG5P5N"
   },
   "source": [
    "### Which type of product had the most unused products listed for sale"
   ]
  },
  {
   "cell_type": "code",
   "execution_count": null,
   "id": "B169_zAK5P5N",
   "metadata": {
    "id": "B169_zAK5P5N"
   },
   "outputs": [
    {
     "name": "stderr",
     "output_type": "stream",
     "text": [
      "                                                                                "
     ]
    },
    {
     "name": "stdout",
     "output_type": "stream",
     "text": [
      "The most unused products listed for sale is: shoes\n",
      "+-----------+------------+\n",
      "|   category|unused_count|\n",
      "+-----------+------------+\n",
      "|      shoes|         271|\n",
      "|    jewelry|         113|\n",
      "|accessories|         107|\n",
      "+-----------+------------+\n",
      "\n"
     ]
    }
   ],
   "source": [
    "most_unused_type_sale_df = new_all_products_df.filter(col(\"isnew_numeric\") == 1).groupBy(\"category\").agg(count(\"*\").alias(\"unused_count\")).orderBy(desc(\"unused_count\"))\n",
    "most_unused_type_sale = most_unused_type_sale_df.first()\n",
    "print(f\"The most unused products listed for sale is: {most_unused_type_sale['category']}\")\n",
    "most_unused_type_sale_df.show()"
   ]
  },
  {
   "cell_type": "markdown",
   "id": "M9m-tJjQ5P5N",
   "metadata": {
    "id": "M9m-tJjQ5P5N"
   },
   "source": [
    "### Which subcategory product  had the most unused products listed for sale"
   ]
  },
  {
   "cell_type": "code",
   "execution_count": null,
   "id": "OakSEhPb5P5N",
   "metadata": {
    "id": "OakSEhPb5P5N"
   },
   "outputs": [
    {
     "name": "stdout",
     "output_type": "stream",
     "text": [
      "The most unused sub products listed for sale is: Baskets\n",
      "+-----------+--------------------+------------+\n",
      "|   category|         subcategory|unused_count|\n",
      "+-----------+--------------------+------------+\n",
      "|      shoes|             Baskets|          68|\n",
      "|      shoes|  Sneakers & Baskets|          41|\n",
      "|      shoes| Derbies & Mocassins|          38|\n",
      "|    jewelry|            Colliers|          34|\n",
      "|accessories|       Baseball Caps|          33|\n",
      "|      shoes|  Claquettes & Tongs|          27|\n",
      "|accessories|          Skull Caps|          25|\n",
      "|accessories|           Flat Caps|          22|\n",
      "|      shoes|           Mocassins|          21|\n",
      "|accessories|          Bucket Hat|          20|\n",
      "|      shoes|Bottes & Chaussur...|          19|\n",
      "|      shoes|   Bottes & Bottines|          18|\n",
      "|    jewelry|  Montres connectées|          17|\n",
      "|    jewelry|              Bagues|          15|\n",
      "|      shoes|    Sandales & Mules|          15|\n",
      "|    jewelry|  Boucles d'oreilles|          12|\n",
      "|      shoes|            Sandales|          10|\n",
      "|    jewelry|  Montres pour femme|           7|\n",
      "|    jewelry|           Bracelets|           7|\n",
      "|    jewelry|  Montres pour homme|           5|\n",
      "+-----------+--------------------+------------+\n",
      "only showing top 20 rows\n",
      "\n"
     ]
    }
   ],
   "source": [
    "most_unused_sub_type_sale_df = new_all_products_df.filter((col(\"isnew_numeric\") == 1)).groupBy(\"category\", \"subcategory\").agg(count(\"*\").alias(\"unused_count\")).orderBy(desc(\"unused_count\"))\n",
    "most_unused_sub_type_sale = most_unused_sub_type_sale_df.first()\n",
    "print(f\"The most unused sub products listed for sale is: {most_unused_sub_type_sale['subcategory']}\")\n",
    "most_unused_sub_type_sale_df.show()"
   ]
  },
  {
   "cell_type": "markdown",
   "id": "ayVrZ1SrOXf1",
   "metadata": {
    "id": "ayVrZ1SrOXf1"
   },
   "source": [
    "## - Partition and Load transformed datasets into HDFS."
   ]
  },
  {
   "cell_type": "code",
   "execution_count": null,
   "id": "6384b1c2-415f-4ca1-abff-f25fcde8522e",
   "metadata": {},
   "outputs": [
    {
     "name": "stdout",
     "output_type": "stream",
     "text": [
      "Number of cores on the local machine: 8\n"
     ]
    }
   ],
   "source": [
    "import os\n",
    "\n",
    "num_cores = os.cpu_count()\n",
    "print(f\"Number of cores on the local machine: {num_cores}\")"
   ]
  },
  {
   "cell_type": "code",
   "execution_count": null,
   "id": "a6c3d9a9-7461-4a8d-bbc3-44773b7a5312",
   "metadata": {},
   "outputs": [
    {
     "name": "stderr",
     "output_type": "stream",
     "text": [
      "[Stage 78:===================>                                      (2 + 4) / 6]"
     ]
    },
    {
     "name": "stdout",
     "output_type": "stream",
     "text": [
      "Number of partitions: 8\n"
     ]
    }
   ],
   "source": [
    "## Since my machine has 8 cores, the dataframe will be partitioned into 8 partitions so that each core takes one partition to process the data efficiently\n",
    "\n",
    "partitioned_df = new_all_products_df.repartition(8)\n",
    "# Display the number of partitions\n",
    "print(f\"Number of partitions: {partitioned_df.rdd.getNumPartitions()}\")"
   ]
  },
  {
   "cell_type": "code",
   "execution_count": null,
   "id": "7UFLW-djOpVy",
   "metadata": {
    "id": "7UFLW-djOpVy"
   },
   "outputs": [
    {
     "name": "stderr",
     "output_type": "stream",
     "text": [
      "                                                                                "
     ]
    },
    {
     "name": "stdout",
     "output_type": "stream",
     "text": [
      "DataFrame partitioned and written to: hdfs://namenode-master:8020/partitioned_products\n"
     ]
    }
   ],
   "source": [
    "# Output path in HDFS for partitioned data\n",
    "output_path = \"hdfs://namenode-master:8020/partitioned_products\" \n",
    "\n",
    "# Partition the DataFrame by category and write to HDFS\n",
    "new_all_products_df.write.partitionBy(\"category\").parquet(output_path)\n",
    "\n",
    "print(f\"DataFrame partitioned and written to: {output_path}\")"
   ]
  },
  {
   "cell_type": "markdown",
   "id": "YM2vCyjE5P5O",
   "metadata": {
    "id": "YM2vCyjE5P5O"
   },
   "source": [
    "## Read each table as a dataframe and just print the schema of each one."
   ]
  },
  {
   "cell_type": "code",
   "execution_count": null,
   "id": "a0fe1dfc-6227-44ba-bf52-eaaa8e964ec1",
   "metadata": {},
   "outputs": [
    {
     "name": "stdout",
     "output_type": "stream",
     "text": [
      "Shoe Products Schema:\n",
      "root\n",
      " |-- subcategory: string (nullable = true)\n",
      " |-- name: string (nullable = true)\n",
      " |-- current_price: double (nullable = true)\n",
      " |-- raw_price: double (nullable = true)\n",
      " |-- currency: string (nullable = true)\n",
      " |-- discount: integer (nullable = true)\n",
      " |-- likes_count: integer (nullable = true)\n",
      " |-- is_new: boolean (nullable = true)\n",
      " |-- brand: string (nullable = true)\n",
      " |-- brand_url: string (nullable = true)\n",
      " |-- codCountry: string (nullable = true)\n",
      " |-- variation_0_color: string (nullable = true)\n",
      " |-- variation_1_color: string (nullable = true)\n",
      " |-- variation_0_thumbnail: string (nullable = true)\n",
      " |-- variation_0_image: string (nullable = true)\n",
      " |-- variation_1_thumbnail: string (nullable = true)\n",
      " |-- variation_1_image: string (nullable = true)\n",
      " |-- image_url: string (nullable = true)\n",
      " |-- url: string (nullable = true)\n",
      " |-- id: integer (nullable = true)\n",
      " |-- model: string (nullable = true)\n",
      " |-- avg_price_category: double (nullable = true)\n",
      " |-- avg_discount_category: double (nullable = true)\n",
      " |-- avg_likes_category: double (nullable = true)\n",
      " |-- avg_price_subcategory: double (nullable = true)\n",
      " |-- avg_discount_subcategory: double (nullable = true)\n",
      " |-- avg_likes_subcategory: double (nullable = true)\n",
      " |-- isnew_numeric: integer (nullable = true)\n",
      " |-- sum_unused_category: long (nullable = true)\n",
      " |-- sum_unused_subcategory: long (nullable = true)\n",
      "\n",
      "Jewelry Products Schema:\n",
      "root\n",
      " |-- subcategory: string (nullable = true)\n",
      " |-- name: string (nullable = true)\n",
      " |-- current_price: double (nullable = true)\n",
      " |-- raw_price: double (nullable = true)\n",
      " |-- currency: string (nullable = true)\n",
      " |-- discount: integer (nullable = true)\n",
      " |-- likes_count: integer (nullable = true)\n",
      " |-- is_new: boolean (nullable = true)\n",
      " |-- brand: string (nullable = true)\n",
      " |-- brand_url: string (nullable = true)\n",
      " |-- codCountry: string (nullable = true)\n",
      " |-- variation_0_color: string (nullable = true)\n",
      " |-- variation_1_color: string (nullable = true)\n",
      " |-- variation_0_thumbnail: string (nullable = true)\n",
      " |-- variation_0_image: string (nullable = true)\n",
      " |-- variation_1_thumbnail: string (nullable = true)\n",
      " |-- variation_1_image: string (nullable = true)\n",
      " |-- image_url: string (nullable = true)\n",
      " |-- url: string (nullable = true)\n",
      " |-- id: integer (nullable = true)\n",
      " |-- model: string (nullable = true)\n",
      " |-- avg_price_category: double (nullable = true)\n",
      " |-- avg_discount_category: double (nullable = true)\n",
      " |-- avg_likes_category: double (nullable = true)\n",
      " |-- avg_price_subcategory: double (nullable = true)\n",
      " |-- avg_discount_subcategory: double (nullable = true)\n",
      " |-- avg_likes_subcategory: double (nullable = true)\n",
      " |-- isnew_numeric: integer (nullable = true)\n",
      " |-- sum_unused_category: long (nullable = true)\n",
      " |-- sum_unused_subcategory: long (nullable = true)\n",
      "\n",
      "Accessories Products Schema:\n",
      "root\n",
      " |-- subcategory: string (nullable = true)\n",
      " |-- name: string (nullable = true)\n",
      " |-- current_price: double (nullable = true)\n",
      " |-- raw_price: double (nullable = true)\n",
      " |-- currency: string (nullable = true)\n",
      " |-- discount: integer (nullable = true)\n",
      " |-- likes_count: integer (nullable = true)\n",
      " |-- is_new: boolean (nullable = true)\n",
      " |-- brand: string (nullable = true)\n",
      " |-- brand_url: string (nullable = true)\n",
      " |-- codCountry: string (nullable = true)\n",
      " |-- variation_0_color: string (nullable = true)\n",
      " |-- variation_1_color: string (nullable = true)\n",
      " |-- variation_0_thumbnail: string (nullable = true)\n",
      " |-- variation_0_image: string (nullable = true)\n",
      " |-- variation_1_thumbnail: string (nullable = true)\n",
      " |-- variation_1_image: string (nullable = true)\n",
      " |-- image_url: string (nullable = true)\n",
      " |-- url: string (nullable = true)\n",
      " |-- id: integer (nullable = true)\n",
      " |-- model: string (nullable = true)\n",
      " |-- avg_price_category: double (nullable = true)\n",
      " |-- avg_discount_category: double (nullable = true)\n",
      " |-- avg_likes_category: double (nullable = true)\n",
      " |-- avg_price_subcategory: double (nullable = true)\n",
      " |-- avg_discount_subcategory: double (nullable = true)\n",
      " |-- avg_likes_subcategory: double (nullable = true)\n",
      " |-- isnew_numeric: integer (nullable = true)\n",
      " |-- sum_unused_category: long (nullable = true)\n",
      " |-- sum_unused_subcategory: long (nullable = true)\n",
      "\n"
     ]
    }
   ],
   "source": [
    "# Load the partitioned Parquet file for shoe products\n",
    "shoe_df = spark.read.parquet(\"hdfs://namenode-master:8020/partitioned_products/category=shoes\")\n",
    "print(\"Shoe Products Schema:\")\n",
    "shoe_df.printSchema()\n",
    "\n",
    "# Load the partitioned Parquet file for jewelry products\n",
    "jewelry_df = spark.read.parquet(\"hdfs://namenode-master:8020/partitioned_products/category=jewelry\")\n",
    "print(\"Jewelry Products Schema:\")\n",
    "jewelry_df.printSchema()\n",
    "\n",
    "# Load the partitioned Parquet file for accessories products\n",
    "accessories_df = spark.read.parquet(\"hdfs://namenode-master:8020/partitioned_products/category=accessories\")\n",
    "print(\"Accessories Products Schema:\")\n",
    "accessories_df.printSchema()"
   ]
  },
  {
   "cell_type": "code",
   "execution_count": null,
   "id": "355730dd-5973-4ebf-ad6d-0b99f652fc29",
   "metadata": {},
   "outputs": [],
   "source": [
    "spark.stop()"
   ]
  }
 ],
 "metadata": {
  "colab": {
   "provenance": []
  },
  "kernelspec": {
   "display_name": "Python 3 (ipykernel)",
   "language": "python",
   "name": "python3"
  },
  "language_info": {
   "codemirror_mode": {
    "name": "ipython",
    "version": 3
   },
   "file_extension": ".py",
   "mimetype": "text/x-python",
   "name": "python",
   "nbconvert_exporter": "python",
   "pygments_lexer": "ipython3",
   "version": "3.10.16"
  },
  "toc": {
   "base_numbering": 1,
   "nav_menu": {},
   "number_sections": true,
   "sideBar": true,
   "skip_h1_title": false,
   "title_cell": "Table of Contents",
   "title_sidebar": "Contents",
   "toc_cell": false,
   "toc_position": {},
   "toc_section_display": true,
   "toc_window_display": false
  }
 },
 "nbformat": 4,
 "nbformat_minor": 5
}
